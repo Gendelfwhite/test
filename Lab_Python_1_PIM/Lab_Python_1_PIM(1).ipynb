{
  "cells": [
    {
      "cell_type": "markdown",
      "metadata": {
        "id": "OMjrqeqpYTUk"
      },
      "source": [
        "Иззатов Эльшан Али-заде"
      ]
    },
    {
      "cell_type": "markdown",
      "metadata": {
        "id": "rgSEr1w0YTUm"
      },
      "source": [
        "# Лабораторная работа №1"
      ]
    },
    {
      "cell_type": "markdown",
      "metadata": {
        "id": "tOgPuYAZYTUn"
      },
      "source": [
        "## Знакомство с языком Python"
      ]
    },
    {
      "cell_type": "markdown",
      "metadata": {
        "id": "mMVtIhrXYTUn"
      },
      "source": [
        "**I.**\tВызвать в интерактивном режиме `import this`, изучить философию разработчиков."
      ]
    },
    {
      "cell_type": "code",
      "execution_count": 1,
      "metadata": {
        "id": "mDbQk4KdYTUn",
        "colab": {
          "base_uri": "https://localhost:8080/"
        },
        "outputId": "2e1f30dc-5b78-4673-d3b7-2a43358ce86a"
      },
      "outputs": [
        {
          "output_type": "stream",
          "name": "stdout",
          "text": [
            "The Zen of Python, by Tim Peters\n",
            "\n",
            "Beautiful is better than ugly.\n",
            "Explicit is better than implicit.\n",
            "Simple is better than complex.\n",
            "Complex is better than complicated.\n",
            "Flat is better than nested.\n",
            "Sparse is better than dense.\n",
            "Readability counts.\n",
            "Special cases aren't special enough to break the rules.\n",
            "Although practicality beats purity.\n",
            "Errors should never pass silently.\n",
            "Unless explicitly silenced.\n",
            "In the face of ambiguity, refuse the temptation to guess.\n",
            "There should be one-- and preferably only one --obvious way to do it.\n",
            "Although that way may not be obvious at first unless you're Dutch.\n",
            "Now is better than never.\n",
            "Although never is often better than *right* now.\n",
            "If the implementation is hard to explain, it's a bad idea.\n",
            "If the implementation is easy to explain, it may be a good idea.\n",
            "Namespaces are one honking great idea -- let's do more of those!\n"
          ]
        }
      ],
      "source": [
        "import this"
      ]
    },
    {
      "cell_type": "markdown",
      "metadata": {
        "id": "LhcWEWrLYTUn"
      },
      "source": [
        "**II.**\tВнимательно изучить `PEP 8` (`Python Enhancement Proposal`) – руководство по написанию кода на Python: `https://pythonworld.ru/osnovy/pep-8-rukovodstvo-po-napisaniyu-koda-na-python.html`."
      ]
    },
    {
      "cell_type": "markdown",
      "metadata": {
        "id": "mFPH2hwQYTUo"
      },
      "source": [
        "**III.**\tРеализовать задачи на языке программирования Python:"
      ]
    },
    {
      "cell_type": "markdown",
      "metadata": {
        "id": "eg9yqCblYTUo"
      },
      "source": [
        "**1.**\tПользователь вводит числа `А` и `В`. Необходимо поменять значения `А` и `В` местами и вывести их на экран (минимум 5 способов)."
      ]
    },
    {
      "cell_type": "code",
      "execution_count": 2,
      "metadata": {
        "colab": {
          "base_uri": "https://localhost:8080/"
        },
        "id": "Aoly7A0dYTUo",
        "outputId": "2a8f53be-0e0b-413f-85d9-d35a302f7705"
      },
      "outputs": [
        {
          "output_type": "stream",
          "name": "stdout",
          "text": [
            "5\n",
            "6\n",
            "6 5\n",
            "5 6\n",
            "6 5\n",
            "5 6\n",
            "6 5\n"
          ]
        }
      ],
      "source": [
        "a=int(input ())\n",
        "b=int(input ())\n",
        "a=a+b\n",
        "b=a-b\n",
        "a=a-b\n",
        "print(a,b)#1 cпособ\n",
        "b=a*b\n",
        "a=b//a\n",
        "b=b//a\n",
        "print(a,b)#2 способ\n",
        "a,b=b,a\n",
        "print(a,b)#3 способ\n",
        "c=a\n",
        "a=b\n",
        "b=c\n",
        "print(a,b)#4 способ\n",
        "print(b,a)#5 способ"
      ]
    },
    {
      "cell_type": "markdown",
      "metadata": {
        "id": "o_hs2fuKYTUo"
      },
      "source": [
        "**2.**\tПо координатам, введенным пользователем, определить к какой четверти координатной плоскости относится точка. Если точка лежит на оси абсцисс или ординат или является началом координат, сообщить об этом. Минимизировать количество условий."
      ]
    },
    {
      "cell_type": "code",
      "execution_count": 3,
      "metadata": {
        "id": "caPgmSAWYTUp",
        "colab": {
          "base_uri": "https://localhost:8080/"
        },
        "outputId": "913785a0-9f94-4b2c-d6f2-c3079cf821df"
      },
      "outputs": [
        {
          "output_type": "stream",
          "name": "stdout",
          "text": [
            "2\n",
            "3\n",
            "точка лежит в 1 четверти\n"
          ]
        }
      ],
      "source": [
        "x=int(input ())\n",
        "y=int(input ())\n",
        "if x==0 and y==0:\n",
        "  print(\"точка является началом координат\")\n",
        "elif x==0:\n",
        "  print(\"точка лежит на оси абсцисс\")\n",
        "elif y==0:\n",
        "  print(\"точка лежит на оси координат\")\n",
        "elif x>0 and y>0:\n",
        "  print(\"точка лежит в 1 четверти\")\n",
        "elif x<0 and y>0:\n",
        "  print(\"точка лежит во 2 четверти\")\n",
        "elif x<0 and y<0:\n",
        "  print(\"точка лежит в 3 четверти\")\n",
        "elif x>0 and y<0:\n",
        "  print(\"точка лежит в 4 четверти\")\n"
      ]
    },
    {
      "cell_type": "markdown",
      "metadata": {
        "id": "ZPnC8U6kYTUp"
      },
      "source": [
        "**3.** Пользователь вводит трехзначное число. Необходимо определить сумму цифр этого трехзначного числа. Реализовать подсчет суммы минимум двумя способами."
      ]
    },
    {
      "cell_type": "code",
      "execution_count": null,
      "metadata": {
        "id": "EZg13bN5YTUp",
        "colab": {
          "base_uri": "https://localhost:8080/"
        },
        "outputId": "246ae0e6-2761-497a-c1ed-2b413bc278ab"
      },
      "outputs": [
        {
          "output_type": "stream",
          "name": "stdout",
          "text": [
            "569\n",
            "20\n",
            "20\n"
          ]
        }
      ],
      "source": [
        "a=int(input ())\n",
        "b=a//100\n",
        "c=a//10%10\n",
        "d=a%10\n",
        "print(b+c+d)\n",
        "print(a//100+a//10%10+a%10)\n"
      ]
    },
    {
      "cell_type": "markdown",
      "metadata": {
        "id": "MpmVcVBtYTUp"
      },
      "source": [
        "**4.** \tНайти корни уравнения `a∙x^2+b∙x+c=0`. Параметры уравнения (`a`, `b`, `c`) вводятся пользователем. Предусмотреть, что `a`  может быть равно `0` - вывести корректные ответы."
      ]
    },
    {
      "cell_type": "code",
      "execution_count": null,
      "metadata": {
        "id": "1aZeL-SiYTUp",
        "colab": {
          "base_uri": "https://localhost:8080/"
        },
        "outputId": "005a4220-4352-4ebe-b633-bea1774835d5"
      },
      "outputs": [
        {
          "output_type": "stream",
          "name": "stdout",
          "text": [
            "1\n",
            "4\n",
            "4\n",
            "-2.0\n"
          ]
        }
      ],
      "source": [
        "a=int(input ())\n",
        "b=int(input ())\n",
        "c=int(input ())\n",
        "d=(b**2)-(4*a*c)\n",
        "x1=(-b-(d**0.5))/(2*a)\n",
        "x2=(-b+(d**0.5))/(2*a)\n",
        "if d==0:\n",
        "  print(-b/2*a)\n",
        "elif d>=0:\n",
        "  print(x1)\n",
        "  print(x2)\n",
        "else:\n",
        "  print(\"Корней нет\")"
      ]
    },
    {
      "cell_type": "markdown",
      "metadata": {
        "id": "LwzcO0uCYTUp"
      },
      "source": [
        "**5.**\tВывести на экран по одному разу все трехзначные числа, полученные перестановкой цифр введенного пользователем трехзначного числа. Дополнительными библиотеками, циклами, множествами пользоваться нельзя."
      ]
    },
    {
      "cell_type": "code",
      "execution_count": null,
      "metadata": {
        "id": "xN7wD2JhYTUp",
        "colab": {
          "base_uri": "https://localhost:8080/"
        },
        "outputId": "769210d9-85b2-44d2-dc97-6c796ee19138"
      },
      "outputs": [
        {
          "output_type": "stream",
          "name": "stdout",
          "text": [
            "123\n",
            "1 2 3\n",
            "2 1 3\n",
            "3 2 1\n",
            "1 3 2\n"
          ]
        }
      ],
      "source": [
        "a=int(input ())\n",
        "b=a//100\n",
        "c=a//10%10\n",
        "d=a%10\n",
        "print(b,c,d)\n",
        "print(c,b,d)\n",
        "print(d,c,b)\n",
        "print(b,d,c)"
      ]
    },
    {
      "cell_type": "markdown",
      "metadata": {
        "id": "Tm7F32YOYTUp"
      },
      "source": [
        "**6.**\tНайдите все пары дружественных чисел, не превышающих `А`. Два числа называют дружественными, если каждое из них равно сумме всех делителей другого (само число в качестве делителя не рассматривается). Числа в каждой паре должны идти по возрастанию."
      ]
    },
    {
      "cell_type": "code",
      "source": [
        "a=int(input ())\n",
        "for i in range(1, a):\n",
        "   k = 0\n",
        "   n = 0\n",
        "   for x in range(1, i):\n",
        "       if i % x == 0:\n",
        "           k += x\n",
        "   for j in range(1, k):\n",
        "       if k % j == 0:\n",
        "           n += j\n",
        "   if i == n and i != k and i == min(i, k):\n",
        "       print(i, k)"
      ],
      "metadata": {
        "colab": {
          "base_uri": "https://localhost:8080/"
        },
        "id": "CuDvyhWvowCH",
        "outputId": "12bd24e5-7245-400e-c898-d301201b1bcf"
      },
      "execution_count": null,
      "outputs": [
        {
          "output_type": "stream",
          "name": "stdout",
          "text": [
            "1000\n",
            "220 284\n"
          ]
        }
      ]
    }
  ],
  "metadata": {
    "kernelspec": {
      "display_name": "Python 3 (ipykernel)",
      "language": "python",
      "name": "python3"
    },
    "language_info": {
      "codemirror_mode": {
        "name": "ipython",
        "version": 3
      },
      "file_extension": ".py",
      "mimetype": "text/x-python",
      "name": "python",
      "nbconvert_exporter": "python",
      "pygments_lexer": "ipython3",
      "version": "3.11.5"
    },
    "colab": {
      "provenance": [],
      "toc_visible": true
    }
  },
  "nbformat": 4,
  "nbformat_minor": 0
}